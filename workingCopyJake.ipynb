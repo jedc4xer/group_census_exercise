{
 "cells": [
  {
   "cell_type": "markdown",
   "id": "784a4563-2aca-4022-90ef-bfbb3d518f7e",
   "metadata": {},
   "source": [
    "# Characteristics of Businesses - Group Exercise"
   ]
  },
  {
   "cell_type": "code",
   "execution_count": 1,
   "id": "ba6382de-0e6d-4039-922a-8ef29d824568",
   "metadata": {},
   "outputs": [],
   "source": [
    "import pandas as pd\n",
    "import requests\n",
    "\n",
    "tech_variables = 'https://api.census.gov/data/2018/abstcb/variables.html'\n",
    "owner_variables = 'https://api.census.gov/data/2018/abscbo/variables.html'\n",
    "characteristics_variables = 'https://api.census.gov/data/2018/abscb/variables.html'\n",
    "company_summary_variables = 'https://api.census.gov/data/2018/abscs/variables.html'\n"
   ]
  },
  {
   "cell_type": "markdown",
   "id": "8cf9d2c7-de27-4f04-89a3-841448a80583",
   "metadata": {},
   "source": [
    "### Get Tables of Variables"
   ]
  },
  {
   "cell_type": "code",
   "execution_count": 2,
   "id": "fa3bde3f-8107-4bc0-aa21-9e7f18d67437",
   "metadata": {},
   "outputs": [],
   "source": [
    "tech_vars = pd.read_html(tech_variables)[0]\n",
    "owner_vars = pd.read_html(owner_variables)[0]\n",
    "characteristic_vars = pd.read_html(characteristics_variables)[0]\n",
    "company_summary_vars = pd.read_html(company_summary_variables)[0]\n",
    "\n",
    "tech_vars = tech_vars[[_ for _ in tech_vars.columns[:2]]]\n",
    "owner_vars = owner_vars[[_ for _ in owner_vars.columns[:2]]]\n",
    "characteristic_vars = characteristic_vars[[_ for _ in characteristic_vars.columns[:2]]]\n",
    "company_summary_vars = company_summary_vars[[_ for _ in company_summary_vars.columns[:2]]] \n",
    "\n",
    "tech_vars.rename(columns = {'Label': 'Tech Labels'}, inplace = True)\n",
    "owner_vars.rename(columns = {'Label': 'Owner Labels'}, inplace = True)\n",
    "characteristic_vars.rename(columns = {'Label': 'Characteristic Labels'}, inplace = True)\n",
    "company_summary_vars.rename(columns = {'Label': 'Company Summary Labels'}, inplace = True)"
   ]
  },
  {
   "cell_type": "code",
   "execution_count": 3,
   "id": "0ab83092-c85f-423a-870f-0b436d102e1e",
   "metadata": {},
   "outputs": [],
   "source": [
    "grouped_tables = pd.merge(tech_vars, owner_vars, left_on = 'Name', right_on = 'Name', how = 'outer')\n",
    "grouped_tables = pd.merge(grouped_tables, characteristic_vars, left_on = 'Name', right_on = 'Name', how = 'outer')\n",
    "grouped_tables = pd.merge(grouped_tables, company_summary_vars , left_on = 'Name', right_on = 'Name', how = 'outer')\n",
    "grouped_tables.fillna(\"-\", inplace = True)\n",
    "grouped_tables = grouped_tables[(~grouped_tables['Tech Labels'].str.contains('Standard error|standard error'))]\n",
    "grouped_tables = grouped_tables[(~grouped_tables['Owner Labels'].str.contains('Standard error|standard error'))]\n",
    "grouped_tables = grouped_tables[(~grouped_tables['Characteristic Labels'].str.contains('Standard error|standard error'))]\n",
    "grouped_tables = grouped_tables[(~grouped_tables['Company Summary Labels'].str.contains('Standard error|standard error'))]\n",
    "\n",
    "grouped_tables.reset_index(drop = True, inplace = True)\n",
    "grouped_tables = grouped_tables[:-2]"
   ]
  },
  {
   "cell_type": "code",
   "execution_count": 4,
   "id": "c5ba33c4-e741-4ac6-a29c-24627bce46bd",
   "metadata": {},
   "outputs": [],
   "source": [
    "# grouped_tables.sort_values(by = 'Name', ascending = False)\n",
    "vars_of_interest = [\n",
    "    'NAICS2017',\n",
    "    'YIBSZFI',\n",
    "    'SEX',\n",
    "    'QDESC',\n",
    "    'NSFSZFI',\n",
    "    'GEO_ID',\n",
    "    'RACE_GROUP',\n",
    "    'BUSCHAR',\n",
    "    'OWNER_RACE',\n",
    "    'OWNER_SEX']\n",
    "target_subset = grouped_tables[(grouped_tables['Name'].isin(vars_of_interest))]\n",
    "target_subset = target_subset[['Name','Company Summary Labels','Characteristic Labels','Owner Labels','Tech Labels']]"
   ]
  },
  {
   "cell_type": "markdown",
   "id": "b499f283-812a-41ba-903b-2f5c7a7fc4e7",
   "metadata": {},
   "source": [
    "### Build variable strings to pass to api call\n"
   ]
  },
  {
   "cell_type": "code",
   "execution_count": 5,
   "id": "5ad0e9b9-b4c8-42d4-ac89-5170e2f3edd3",
   "metadata": {},
   "outputs": [
    {
     "data": {
      "text/plain": [
       "{0: 'NAME,GEO_ID,NAICS2017,NAICS2017_LABEL,RACE_GROUP,RACE_GROUP_LABEL,SEX,SEX_LABEL,YIBSZFI,YIBSZFI_LABEL',\n",
       " 1: 'NAME,GEO_ID,NAICS2017,NAICS2017_LABEL,RACE_GROUP,RACE_GROUP_LABEL,SEX,SEX_LABEL,QDESC,QDESC_LABEL,BUSCHAR,BUSCHAR_LABEL,YIBSZFI,YIBSZFI_LABEL',\n",
       " 2: 'NAME,GEO_ID,NAICS2017,NAICS2017_LABEL,OWNER_RACE,OWNER_RACE_LABEL,OWNER_SEX,OWNER_SEX_LABEL,QDESC,QDESC_LABEL',\n",
       " 3: 'NAME,GEO_ID,NAICS2017,NAICS2017_LABEL,NSFSZFI,NSFSZFI_LABEL,RACE_GROUP,RACE_GROUP_LABEL,SEX,SEX_LABEL'}"
      ]
     },
     "execution_count": 5,
     "metadata": {},
     "output_type": "execute_result"
    }
   ],
   "source": [
    "variable_dict = {}\n",
    "for i,label in enumerate(target_subset.columns[1:]):\n",
    "    variable_list = []\n",
    "    for item in target_subset[(target_subset[label] != \"-\")].Name.tolist():\n",
    "        variable_list.append(item)\n",
    "        variable_list.append(f'{item}_LABEL')\n",
    "    variable_list = [_ for _ in variable_list if _ not in ['GEO_ID_LABEL']]#, 'QDESC_LABEL']]\n",
    "    in_table = \"NAME,\" + \",\".join(variable_list)\n",
    "    variable_dict[i] = in_table\n",
    "variable_dict\n"
   ]
  },
  {
   "cell_type": "code",
   "execution_count": null,
   "id": "3c1a70c7-4daf-4ad1-804a-7e3437b2d236",
   "metadata": {},
   "outputs": [],
   "source": []
  },
  {
   "cell_type": "code",
   "execution_count": 6,
   "id": "3815b474-ad8c-4636-a450-1aab7828ef18",
   "metadata": {},
   "outputs": [
    {
     "name": "stdout",
     "output_type": "stream",
     "text": [
      "https://api.census.gov/data/2018/abscs?get=NAME,GEO_ID,NAICS2017,NAICS2017_LABEL,RACE_GROUP,RACE_GROUP_LABEL,SEX,SEX_LABEL,YIBSZFI,YIBSZFI_LABEL,FIRMPDEMP&for=us:*\n",
      "\n",
      "https://api.census.gov/data/2018/abscb?get=NAME,GEO_ID,NAICS2017,NAICS2017_LABEL,RACE_GROUP,RACE_GROUP_LABEL,SEX,SEX_LABEL,QDESC,QDESC_LABEL,BUSCHAR,BUSCHAR_LABEL,YIBSZFI,YIBSZFI_LABEL,FIRMPDEMP&for=state:*\n",
      "\n",
      "https://api.census.gov/data/2018/abscbo?get=NAME,GEO_ID,NAICS2017,NAICS2017_LABEL,OWNER_RACE,OWNER_RACE_LABEL,OWNER_SEX,OWNER_SEX_LABEL,QDESC,QDESC_LABEL,OWNCHAR,OWNCHAR_LABEL&for=us:*&for=QDESC_LABEL=YRACQBUS\n",
      "\n",
      "https://api.census.gov/data/2018/abstcb?get=NAME,GEO_ID,NAICS2017,NAICS2017_LABEL,NSFSZFI,NSFSZFI_LABEL,RACE_GROUP,RACE_GROUP_LABEL,SEX,SEX_LABEL,FIRMPDEMP,TECHUSE&for=state:*\n",
      "\n"
     ]
    }
   ],
   "source": [
    "# Might be able to pass in the same vars for every call, and if it exists it will be returned. Not sure if this will work.\n",
    "# otherwise, store the variables in a dictionary where the key is 0-3 and the values are a string of the variables\n",
    "\n",
    "industry_code = '61'\n",
    "qdesc1 = 'B27'\n",
    "# links = [\n",
    "#     f'https://api.census.gov/data/2018/abscs?get={variable_dict[0]}&for=state:*&NAICS2017={industry_code}',\n",
    "#     f'https://api.census.gov/data/2018/abscb?get={variable_dict[1]}&for=state:*&NAICS2017={industry_code}&BUSCHAR&QDESC={qdesc1}',\n",
    "#     f'https://api.census.gov/data/2018/abscbo?get={variable_dict[2]}&for=state:*&OWNCHAR=CG&NAICS2017={industry_code}&QDESC={qdesc1}',\n",
    "#     f'https://api.census.gov/data/2018/abstcb?get={variable_dict[3]}&for=state:*&NAICS2017={industry_code}'\n",
    "# ]\n",
    "# removed from working link: GEO_ID,NAME,NAICS2017,NAICS2017_LABEL,OWNER_SEX,OWNER_SEX_LABEL,QDESC,QDESC_LABEL,OWNCHAR,OWNCHAR_LABEL\n",
    "links = [\n",
    "    f'https://api.census.gov/data/2018/abscs?get={variable_dict[0]},FIRMPDEMP&for=us:*', #I CHANGED THIS from for=state:*\n",
    "    f'https://api.census.gov/data/2018/abscb?get={variable_dict[1]},FIRMPDEMP&for=state:*',\n",
    "    f'https://api.census.gov/data/2018/abscbo?get={variable_dict[2]},OWNCHAR,OWNCHAR_LABEL&for=us:*&for=QDESC_LABEL=YRACQBUS',\n",
    "    f'https://api.census.gov/data/2018/abstcb?get={variable_dict[3]},FIRMPDEMP,TECHUSE&for=state:*',\n",
    "]\n",
    "\n",
    "def get_data_frame(url):\n",
    "    return pd.read_csv(url)\n",
    "    \n",
    "for link in links:\n",
    "    print(link)\n",
    "    print(\"\")"
   ]
  },
  {
   "cell_type": "markdown",
   "id": "cecf9f81-56ce-4f09-989c-ef175c478977",
   "metadata": {},
   "source": [
    "### The cell below is where the dataframes are first stored."
   ]
  },
  {
   "cell_type": "code",
   "execution_count": 7,
   "id": "e1be9681-bae6-49a4-9ce5-26b8fca1c276",
   "metadata": {},
   "outputs": [],
   "source": [
    "comp_sum_df = get_data_frame(links[0]) # Company Summary\n",
    "bus_char_df = business_char_df = get_data_frame(links[1]) # Business Characteristics\n",
    "bus_own_df = business_own_df = get_data_frame(links[2]) # Business Owners\n",
    "bus_tech_df = get_data_frame(links[3]) # Business Tech   "
   ]
  },
  {
   "cell_type": "code",
   "execution_count": 8,
   "id": "a1bfdc01-d8e7-46c6-ab2b-77ca924c8598",
   "metadata": {},
   "outputs": [],
   "source": [
    "df_collection = [comp_sum_df, bus_char_df, bus_own_df, bus_tech_df]    \n",
    "df_names = ['comp_sum_df', 'bus_char_df', 'bus_own_df', 'bus_tech_df']   "
   ]
  },
  {
   "cell_type": "markdown",
   "id": "afe0a9a6-75e3-4756-a944-a8c01f687021",
   "metadata": {},
   "source": [
    "### Clean DataFrames"
   ]
  },
  {
   "cell_type": "code",
   "execution_count": 9,
   "id": "3e313959-08d8-4272-bd5b-d20d7b744be3",
   "metadata": {},
   "outputs": [],
   "source": [
    "drop_list = [\n",
    "    'race_group','sex','yibszfi','qdesc','buschar',\n",
    "    'owner_race','owner_sex','us','ownchar'\n",
    "]\n",
    "\n",
    "for df in df_collection:\n",
    "    column_names = [_ for _ in df.columns.tolist()]\n",
    "    new_column_names = [_.replace(\"[[\",\"\").replace('\"',\"\").replace(\"]\",\"\").lower() for _ in column_names]\n",
    "\n",
    "    df.columns = new_column_names\n",
    "    df.drop(columns = [_ for _ in new_column_names if ('unnamed' in _ or _ in drop_list)],inplace = True)\n",
    "    df['name'] = df['name'].apply(lambda x: x.replace(\"[\",\"\").replace('\"',\"\"))\n",
    "    \n",
    "    if 'sex_label' in df.columns:\n",
    "        df.rename(columns = {'sex_label': 'gender'}, inplace = True)\n",
    "    \n",
    "    if 'owner_sex_label' in df.columns:\n",
    "        df.rename(columns = {'owner_sex_label': 'gender'}, inplace = True)\n",
    "    \n",
    "    if 'naics2017_label' in df.columns:\n",
    "        df.rename(columns = {'naics2017_label': 'industry'}, inplace = True)\n",
    "        \n",
    "    if 'naics2017' in df.columns:\n",
    "        df.rename(columns = {'naics2017': 'industry_code'}, inplace = True)"
   ]
  },
  {
   "cell_type": "markdown",
   "id": "8c6d9be3-f371-4e29-b3ab-a625f1d2a02c",
   "metadata": {},
   "source": [
    "### Display some info about dataframes."
   ]
  },
  {
   "cell_type": "code",
   "execution_count": 10,
   "id": "14a99328-662e-4daa-9995-fb54c457c978",
   "metadata": {},
   "outputs": [
    {
     "name": "stdout",
     "output_type": "stream",
     "text": [
      "\n",
      "############# NEW DATAFRAME ################\n",
      "Displaying column value counts where there are fewer than 10 unique values in the column.\n",
      "\n",
      "---  DataFrame: comp_sum_df ---------------------\n",
      "Columns: name, geo_id, industry_code, industry, race_group_label, gender, yibszfi_label, firmpdemp\n",
      "United States    4823\n",
      "Name: name, dtype: int64\n",
      "\n",
      "0100000US    4823\n",
      "Name: geo_id, dtype: int64\n",
      "\n",
      "Total                                         588\n",
      "White                                         588\n",
      "Nonminority                                   588\n",
      "Minority                                      581\n",
      "Asian                                         551\n",
      "Black or African American                     528\n",
      "Equally minority/nonminority                  520\n",
      "American Indian and Alaska Native             487\n",
      "Native Hawaiian and Other Pacific Islander    392\n",
      "Name: race_group_label, dtype: int64\n",
      "\n",
      "Total                  1286\n",
      "Male                   1263\n",
      "Female                 1179\n",
      "Equally male/female    1095\n",
      "Name: gender, dtype: int64\n",
      "\n",
      "All firms                                   736\n",
      "Firms with 16 or more years in business     696\n",
      "Firms with less than 2 years in business    692\n",
      "Firms with 6 to 10 years in business        683\n",
      "Firms with 11 to 15 years in business       676\n",
      "Firms with 2 to 3 years in business         670\n",
      "Firms with 4 to 5 years in business         670\n",
      "Name: yibszfi_label, dtype: int64\n",
      "\n",
      "############# END OF DATAFRAME INFO ################\n",
      "\n",
      "\n",
      "############# NEW DATAFRAME ################\n",
      "Displaying column value counts where there are fewer than 10 unique values in the column.\n",
      "\n",
      "---  DataFrame: bus_char_df ---------------------\n",
      "Columns: name, geo_id, industry_code, industry, race_group_label, gender, qdesc_label, buschar_label, yibszfi_label, firmpdemp, state\n",
      "0    2295\n",
      "Name: industry_code, dtype: int64\n",
      "\n",
      "Total for all sectors    2295\n",
      "Name: industry, dtype: int64\n",
      "\n",
      "Total    2295\n",
      "Name: race_group_label, dtype: int64\n",
      "\n",
      "Total    2295\n",
      "Name: gender, dtype: int64\n",
      "\n",
      "WORKERS     510\n",
      "OWNRNUM     408\n",
      "SPOUSES     408\n",
      "CUST        408\n",
      "FAMOWN      306\n",
      "CEASEOPS    255\n",
      "Name: qdesc_label, dtype: int64\n",
      "\n",
      "All firms    2295\n",
      "Name: yibszfi_label, dtype: int64\n",
      "\n",
      "############# END OF DATAFRAME INFO ################\n",
      "\n",
      "\n",
      "############# NEW DATAFRAME ################\n",
      "Displaying column value counts where there are fewer than 10 unique values in the column.\n",
      "\n",
      "---  DataFrame: bus_own_df ---------------------\n",
      "Columns: name, geo_id, industry_code, industry, owner_race_label, gender, qdesc_label, ownchar_label\n",
      "United States    46098\n",
      "Name: name, dtype: int64\n",
      "\n",
      "0100000US    46098\n",
      "Name: geo_id, dtype: int64\n",
      "\n",
      "All owners of respondent firms                6644\n",
      "White                                         6639\n",
      "Nonminority                                   6638\n",
      "Minority                                      6345\n",
      "Asian                                         5963\n",
      "Black or African American                     5406\n",
      "American Indian and Alaska Native             4905\n",
      "Native Hawaiian and Other Pacific Islander    3558\n",
      "Name: owner_race_label, dtype: int64\n",
      "\n",
      "All owners of respondent firms    15923\n",
      "Male                              15512\n",
      "Female                            14663\n",
      "Name: gender, dtype: int64\n",
      "\n",
      "REASONOWN      17732\n",
      "FLDEDUC         7102\n",
      "EDUC            4684\n",
      "YRACQBUS        4308\n",
      "OWNRAGE         3478\n",
      "PRIORBUSTAT     3307\n",
      "PRIMINC         1859\n",
      "USBORN          1843\n",
      "USCITIZEN       1785\n",
      "Name: qdesc_label, dtype: int64\n",
      "\n",
      "############# END OF DATAFRAME INFO ################\n",
      "\n",
      "\n",
      "############# NEW DATAFRAME ################\n",
      "Displaying column value counts where there are fewer than 10 unique values in the column.\n",
      "\n",
      "---  DataFrame: bus_tech_df ---------------------\n",
      "Columns: name, geo_id, industry_code, industry, nsfszfi, nsfszfi_label, race_group_label, gender, firmpdemp, techuse, state\n",
      "1    42840\n",
      "Name: nsfszfi, dtype: int64\n",
      "\n",
      "All firms    42840\n",
      "Name: nsfszfi_label, dtype: int64\n",
      "\n",
      "Total    42840\n",
      "Name: race_group_label, dtype: int64\n",
      "\n",
      "Total    42840\n",
      "Name: gender, dtype: int64\n",
      "\n",
      "############# END OF DATAFRAME INFO ################\n",
      "\n"
     ]
    }
   ],
   "source": [
    "for i,df in enumerate(df_collection):\n",
    "    print('\\n############# NEW DATAFRAME ################')\n",
    "    print('Displaying column value counts where there are fewer than 10 unique values in the column.')\n",
    "    print(f'\\n---  DataFrame: {df_names[i]} ---------------------')\n",
    "    print(f'Columns: {\", \".join(df.columns.tolist())}')\n",
    "    for column in df:\n",
    "        if len(df[column].unique().tolist()) < 10:\n",
    "            print(df[column].value_counts())\n",
    "            print(\"\")\n",
    "    print('############# END OF DATAFRAME INFO ################\\n')"
   ]
  },
  {
   "cell_type": "code",
   "execution_count": 11,
   "id": "ae91d546-9d72-4ab2-b106-ff1338a509ed",
   "metadata": {},
   "outputs": [
    {
     "data": {
      "text/html": [
       "<div>\n",
       "<style scoped>\n",
       "    .dataframe tbody tr th:only-of-type {\n",
       "        vertical-align: middle;\n",
       "    }\n",
       "\n",
       "    .dataframe tbody tr th {\n",
       "        vertical-align: top;\n",
       "    }\n",
       "\n",
       "    .dataframe thead th {\n",
       "        text-align: right;\n",
       "    }\n",
       "</style>\n",
       "<table border=\"1\" class=\"dataframe\">\n",
       "  <thead>\n",
       "    <tr style=\"text-align: right;\">\n",
       "      <th></th>\n",
       "      <th>industry_code</th>\n",
       "      <th>industry</th>\n",
       "    </tr>\n",
       "  </thead>\n",
       "  <tbody>\n",
       "    <tr>\n",
       "      <th>0</th>\n",
       "      <td>00</td>\n",
       "      <td>Total for all sectors</td>\n",
       "    </tr>\n",
       "    <tr>\n",
       "      <th>252</th>\n",
       "      <td>11</td>\n",
       "      <td>Agriculture, forestry, fishing and hunting</td>\n",
       "    </tr>\n",
       "    <tr>\n",
       "      <th>363</th>\n",
       "      <td>21</td>\n",
       "      <td>Mining, quarrying, and oil and gas extraction</td>\n",
       "    </tr>\n",
       "    <tr>\n",
       "      <th>562</th>\n",
       "      <td>22</td>\n",
       "      <td>Utilities</td>\n",
       "    </tr>\n",
       "    <tr>\n",
       "      <th>702</th>\n",
       "      <td>23</td>\n",
       "      <td>Construction</td>\n",
       "    </tr>\n",
       "    <tr>\n",
       "      <th>939</th>\n",
       "      <td>31-33</td>\n",
       "      <td>Manufacturing</td>\n",
       "    </tr>\n",
       "    <tr>\n",
       "      <th>1125</th>\n",
       "      <td>42</td>\n",
       "      <td>Wholesale trade</td>\n",
       "    </tr>\n",
       "    <tr>\n",
       "      <th>1451</th>\n",
       "      <td>44-45</td>\n",
       "      <td>Retail trade</td>\n",
       "    </tr>\n",
       "    <tr>\n",
       "      <th>1695</th>\n",
       "      <td>48-49</td>\n",
       "      <td>Transportation and warehousing</td>\n",
       "    </tr>\n",
       "    <tr>\n",
       "      <th>1925</th>\n",
       "      <td>51</td>\n",
       "      <td>Information</td>\n",
       "    </tr>\n",
       "    <tr>\n",
       "      <th>2034</th>\n",
       "      <td>52</td>\n",
       "      <td>Finance and insurance</td>\n",
       "    </tr>\n",
       "    <tr>\n",
       "      <th>2414</th>\n",
       "      <td>53</td>\n",
       "      <td>Real estate and rental and leasing</td>\n",
       "    </tr>\n",
       "    <tr>\n",
       "      <th>2652</th>\n",
       "      <td>54</td>\n",
       "      <td>Professional, scientific, and technical services</td>\n",
       "    </tr>\n",
       "    <tr>\n",
       "      <th>2667</th>\n",
       "      <td>55</td>\n",
       "      <td>Management of companies and enterprises</td>\n",
       "    </tr>\n",
       "    <tr>\n",
       "      <th>2980</th>\n",
       "      <td>56</td>\n",
       "      <td>Administrative and support and waste managemen...</td>\n",
       "    </tr>\n",
       "    <tr>\n",
       "      <th>3206</th>\n",
       "      <td>62</td>\n",
       "      <td>Health care and social assistance</td>\n",
       "    </tr>\n",
       "    <tr>\n",
       "      <th>3337</th>\n",
       "      <td>61</td>\n",
       "      <td>Educational services</td>\n",
       "    </tr>\n",
       "    <tr>\n",
       "      <th>3756</th>\n",
       "      <td>71</td>\n",
       "      <td>Arts, entertainment, and recreation</td>\n",
       "    </tr>\n",
       "    <tr>\n",
       "      <th>4024</th>\n",
       "      <td>72</td>\n",
       "      <td>Accommodation and food services</td>\n",
       "    </tr>\n",
       "    <tr>\n",
       "      <th>4269</th>\n",
       "      <td>81</td>\n",
       "      <td>Other services (except public administration)</td>\n",
       "    </tr>\n",
       "    <tr>\n",
       "      <th>4444</th>\n",
       "      <td>99</td>\n",
       "      <td>Industries not classified</td>\n",
       "    </tr>\n",
       "  </tbody>\n",
       "</table>\n",
       "</div>"
      ],
      "text/plain": [
       "     industry_code                                           industry\n",
       "0               00                              Total for all sectors\n",
       "252             11         Agriculture, forestry, fishing and hunting\n",
       "363             21      Mining, quarrying, and oil and gas extraction\n",
       "562             22                                          Utilities\n",
       "702             23                                       Construction\n",
       "939          31-33                                      Manufacturing\n",
       "1125            42                                    Wholesale trade\n",
       "1451         44-45                                       Retail trade\n",
       "1695         48-49                     Transportation and warehousing\n",
       "1925            51                                        Information\n",
       "2034            52                              Finance and insurance\n",
       "2414            53                 Real estate and rental and leasing\n",
       "2652            54   Professional, scientific, and technical services\n",
       "2667            55            Management of companies and enterprises\n",
       "2980            56  Administrative and support and waste managemen...\n",
       "3206            62                  Health care and social assistance\n",
       "3337            61                               Educational services\n",
       "3756            71                Arts, entertainment, and recreation\n",
       "4024            72                    Accommodation and food services\n",
       "4269            81      Other services (except public administration)\n",
       "4444            99                          Industries not classified"
      ]
     },
     "execution_count": 11,
     "metadata": {},
     "output_type": "execute_result"
    }
   ],
   "source": [
    "comp_sum_df[['industry_code','industry']].drop_duplicates()"
   ]
  },
  {
   "cell_type": "code",
   "execution_count": 12,
   "id": "79e15eed-15ca-4efe-b189-1df6216d3f6c",
   "metadata": {},
   "outputs": [],
   "source": [
    "gender_by_state_cs = comp_sum_df[\n",
    "    (comp_sum_df['industry_code'].isin(['54','52']))\n",
    "    ].groupby(by = ['name','industry','gender']\n",
    "             )[['gender']].agg('count').rename(columns = {'gender': 'gender_count'}).reset_index()\n",
    "\n",
    "gender_by_state_cs.sort_values(by = ['name', 'industry', 'gender'], inplace = True)\n",
    "gs = gender_by_state_cs\n"
   ]
  },
  {
   "cell_type": "code",
   "execution_count": 13,
   "id": "65e9b15d-962f-4459-b7f9-05467c932808",
   "metadata": {},
   "outputs": [
    {
     "name": "stdout",
     "output_type": "stream",
     "text": [
      "0.3333333333333333\n"
     ]
    }
   ],
   "source": [
    "print(len(comp_sum_df.name.unique())/3)"
   ]
  },
  {
   "cell_type": "code",
   "execution_count": 14,
   "id": "5ee90a29-cd43-4d61-9338-2372de503e62",
   "metadata": {},
   "outputs": [],
   "source": [
    "workingDF = df_collection[0]\n",
    "workingDF = workingDF[workingDF['firmpdemp'] != 0]\n",
    "workingDF = workingDF[workingDF['yibszfi_label'] == 'All firms']\n",
    "workingDF = workingDF[workingDF['race_group_label'] == 'Total']\n",
    "\n",
    "workingDF = workingDF[workingDF['industry'] != 'Industries not classified']"
   ]
  },
  {
   "cell_type": "code",
   "execution_count": 15,
   "id": "41a0da45-0d30-4adb-8c1c-021d137ceb97",
   "metadata": {},
   "outputs": [],
   "source": [
    "workingDF.drop(['geo_id', 'name', 'industry_code', 'race_group_label', 'yibszfi_label'], axis = 1, inplace = True)"
   ]
  },
  {
   "cell_type": "code",
   "execution_count": null,
   "id": "dab45600-bdee-4a65-be20-dfbe26afe95e",
   "metadata": {},
   "outputs": [],
   "source": []
  },
  {
   "cell_type": "code",
   "execution_count": 16,
   "id": "d2e6d71b-779b-4bae-8b7a-a32c50d2bfad",
   "metadata": {},
   "outputs": [],
   "source": [
    "workingDF = workingDF[workingDF['gender'] != 'Total']\n",
    "workingDF = workingDF[workingDF['industry'] != 'Total for all sectors']\n",
    "import matplotlib.pyplot as plt\n",
    "import seaborn as sns\n"
   ]
  },
  {
   "cell_type": "code",
   "execution_count": 17,
   "id": "4f2bf19a-097a-4c57-8750-f771358abbc5",
   "metadata": {},
   "outputs": [],
   "source": [
    "\n",
    "#workingDF.plot.bar(x = 'industry', y = 'firmpdemp', figsize = (15,15))\n"
   ]
  },
  {
   "cell_type": "code",
   "execution_count": 21,
   "id": "e8327e54-841f-4e4c-b8ed-5440bbac41ad",
   "metadata": {},
   "outputs": [
    {
     "data": {
      "image/png": "[encoded data removed]",
      "text/plain": [
       "<Figure size 1440x720 with 1 Axes>"
      ]
     },
     "metadata": {
      "needs_background": "light"
     },
     "output_type": "display_data"
    }
   ],
   "source": [
    "plt.figure(figsize=(20, 10))\n",
    "\n",
    "ax = sns.barplot(data = workingDF, x = 'industry', y = 'firmpdemp', hue = 'gender')\n",
    "ax.set(xlabel =\"Industry\", ylabel = \"Number of Firms\", title ='Majority Ownership of Firms by Industry and Gender')\n",
    "plt.xticks(rotation = 90);"
   ]
  },
  {
   "cell_type": "code",
   "execution_count": null,
   "id": "a1ca82b4-ceca-46c4-b2e6-ead88de2c7be",
   "metadata": {},
   "outputs": [],
   "source": []
  }
 ],
 "metadata": {
  "kernelspec": {
   "display_name": "Python 3 (ipykernel)",
   "language": "python",
   "name": "python3"
  },
  "language_info": {
   "codemirror_mode": {
    "name": "ipython",
    "version": 3
   },
   "file_extension": ".py",
   "mimetype": "text/x-python",
   "name": "python",
   "nbconvert_exporter": "python",
   "pygments_lexer": "ipython3",
   "version": "3.9.7"
  }
 },
 "nbformat": 4,
 "nbformat_minor": 5
}
