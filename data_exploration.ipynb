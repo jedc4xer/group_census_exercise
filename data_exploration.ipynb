{
 "cells": [
  {
   "cell_type": "markdown",
   "id": "784a4563-2aca-4022-90ef-bfbb3d518f7e",
   "metadata": {},
   "source": [
    "# Characteristics of Businesses - Group Exercise"
   ]
  },
  {
   "cell_type": "code",
   "execution_count": 17,
   "id": "ba6382de-0e6d-4039-922a-8ef29d824568",
   "metadata": {},
   "outputs": [],
   "source": [
    "import pandas as pd\n",
    "import requests\n",
    "\n",
    "tech_variables = 'https://api.census.gov/data/2018/abstcb/variables.html'\n",
    "owner_variables = 'https://api.census.gov/data/2018/abscbo/variables.html'\n",
    "characteristics_variables = 'https://api.census.gov/data/2018/abscb/variables.html'\n",
    "company_summary_variables = 'https://api.census.gov/data/2018/abscs/variables.html'\n"
   ]
  },
  {
   "cell_type": "markdown",
   "id": "8cf9d2c7-de27-4f04-89a3-841448a80583",
   "metadata": {},
   "source": [
    "### Get Tables of Variables"
   ]
  },
  {
   "cell_type": "code",
   "execution_count": 30,
   "id": "fa3bde3f-8107-4bc0-aa21-9e7f18d67437",
   "metadata": {},
   "outputs": [],
   "source": [
    "tech_vars = pd.read_html(tech_variables)[0]\n",
    "owner_vars = pd.read_html(owner_variables)[0]\n",
    "characteristic_vars = pd.read_html(characteristics_variables)[0]\n",
    "company_summary_vars = pd.read_html(company_summary_variables)[0]\n",
    "\n",
    "tech_vars = tech_vars[[_ for _ in tech_vars.columns[:2]]]\n",
    "owner_vars = owner_vars[[_ for _ in owner_vars.columns[:2]]]\n",
    "characteristic_vars = characteristic_vars[[_ for _ in characteristic_vars.columns[:2]]]\n",
    "company_summary_vars = company_summary_vars[[_ for _ in company_summary_vars.columns[:2]]] "
   ]
  },
  {
   "cell_type": "code",
   "execution_count": 34,
   "id": "7b06bed9-5eaa-4363-b5f6-8a3f58d14736",
   "metadata": {},
   "outputs": [
    {
     "name": "stdout",
     "output_type": "stream",
     "text": [
      "        Name                                              Label\n",
      "0        EMP                                Number of employees\n",
      "1    EMP_PCT                           Percent of employees (%)\n",
      "2  EMP_PCT_S         Standard error of percent of employees (%)\n",
      "3      EMP_S  Relative standard error of number of employees...\n",
      "4  ETH_GROUP                                     Ethnicity code\n",
      "\n",
      "\n",
      "      Name                         Label\n",
      "0     CBSA                     Geography\n",
      "1      for  Census API FIPS 'for' clause\n",
      "2   GEO_ID    Geographic identifier code\n",
      "3  GEOCOMP              GEO_ID Component\n",
      "4       in   Census API FIPS 'in' clause\n",
      "\n",
      "\n",
      "        Name                                       Label\n",
      "0    BUSCHAR                Business characteristic code\n",
      "1       CBSA                                   Geography\n",
      "2        EMP                         Number of employees\n",
      "3    EMP_PCT                    Percent of employees (%)\n",
      "4  EMP_PCT_S  Standard error of percent of employees (%)\n",
      "\n",
      "\n",
      "        Name                                              Label  \\\n",
      "0       CBSA                                          Geography   \n",
      "1        EMP                                Number of employees   \n",
      "2      EMP_S  Relative standard error of number of employees...   \n",
      "3    EMPSZFI                      Employment size of firms code   \n",
      "4  ETH_GROUP                                     Ethnicity code   \n",
      "\n",
      "                                             Concept           Required  \\\n",
      "0                                                NaN       not required   \n",
      "1  Annual Business Survey: Statistics for Employe...       not required   \n",
      "2  Annual Business Survey: Statistics for Employe...       not required   \n",
      "3  Annual Business Survey: Employment Size of Fir...  default displayed   \n",
      "4  Annual Business Survey: Statistics for Employe...  default displayed   \n",
      "\n",
      "        Attributes Limit     Predicate Type  \\\n",
      "0              NaN     0  (not a predicate)   \n",
      "1            EMP_F     0                int   \n",
      "2          EMP_S_F     0              float   \n",
      "3    EMPSZFI_LABEL     0             string   \n",
      "4  ETH_GROUP_LABEL     0             string   \n",
      "\n",
      "                                               Group Unnamed: 8  \n",
      "0                                                NaN        NaN  \n",
      "1  AB1800CSA03,  AB1800CSA04,  AB1800CSA01,  AB18...        NaN  \n",
      "2  AB1800CSA03,  AB1800CSA04,  AB1800CSA01,  AB18...        NaN  \n",
      "3                                        AB1800CSA04        NaN  \n",
      "4  AB1800CSA03,  AB1800CSA04,  AB1800CSA01,  AB18...        NaN  \n",
      "\n",
      "\n"
     ]
    }
   ],
   "source": [
    "for df in [tech_vars, owner_vars, characteristic_vars, company_summary_vars]:\n",
    "    print(df.head())\n",
    "    print(\"\\n\")"
   ]
  },
  {
   "cell_type": "code",
   "execution_count": 13,
   "id": "1d1341a6-9120-4b31-8277-81eee8a96537",
   "metadata": {},
   "outputs": [
    {
     "name": "stdout",
     "output_type": "stream",
     "text": [
      "STATE,NAICS2017,RCPPDEMP,CBSA,NATION,RACE_GROUP,SEX,SUMLEVEL,ETH_GROUP,EMP,RCPPDEMP_S,GEO_ID,PAYANN_S,PAYANN,EMP_S,GEOCOMP,VET_GROUP,YIBSZFI,RCPSZFI,FIRMPDEMP_S,FIRMPDEMP,YEAR,EMPSZFI\n"
     ]
    }
   ],
   "source": [
    "interest_vars = \",\".join(_ for _ in list(set(table.Name.tolist())) if _ not in ['for','in','ucgid','26 variables'])\n",
    "print(interest_vars)"
   ]
  },
  {
   "cell_type": "code",
   "execution_count": 15,
   "id": "deaca8c9-f259-41e9-bd12-a0a6f1a1284c",
   "metadata": {},
   "outputs": [
    {
     "name": "stdout",
     "output_type": "stream",
     "text": [
      "https://api.census.gov/data/2019/abscb?get=STATE,NAICS2017,RCPPDEMP,CBSA,NATION,RACE_GROUP,SEX,SUMLEVEL,ETH_GROUP,EMP,RCPPDEMP_S,GEO_ID,PAYANN_S,PAYANN,EMP_S,GEOCOMP,VET_GROUP,YIBSZFI,RCPSZFI,FIRMPDEMP_S,FIRMPDEMP,YEAR,EMPSZFI&for=us\n"
     ]
    }
   ],
   "source": [
    "tech_path = 'https://api.census.gov/data/2018/absc'\n",
    "end_point = 'b0?get=&for=us'\n",
    "complete_path = data_path + interest_vars + end_point\n",
    "print(complete_path)"
   ]
  },
  {
   "cell_type": "code",
   "execution_count": null,
   "id": "6c2af8ab-7813-48b6-9b93-aa1ca5a9cf26",
   "metadata": {},
   "outputs": [],
   "source": []
  }
 ],
 "metadata": {
  "kernelspec": {
   "display_name": "Python 3 (ipykernel)",
   "language": "python",
   "name": "python3"
  },
  "language_info": {
   "codemirror_mode": {
    "name": "ipython",
    "version": 3
   },
   "file_extension": ".py",
   "mimetype": "text/x-python",
   "name": "python",
   "nbconvert_exporter": "python",
   "pygments_lexer": "ipython3",
   "version": "3.9.7"
  }
 },
 "nbformat": 4,
 "nbformat_minor": 5
}
