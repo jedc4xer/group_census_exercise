{
 "cells": [
  {
   "cell_type": "markdown",
   "id": "784a4563-2aca-4022-90ef-bfbb3d518f7e",
   "metadata": {},
   "source": [
    "# Characteristics of Businesses - Group Exercise"
   ]
  },
  {
   "cell_type": "code",
   "execution_count": 1,
   "id": "ba6382de-0e6d-4039-922a-8ef29d824568",
   "metadata": {},
   "outputs": [],
   "source": [
    "import pandas as pd\n",
    "import requests\n",
    "\n",
    "tech_variables = 'https://api.census.gov/data/2018/abstcb/variables.html'\n",
    "owner_variables = 'https://api.census.gov/data/2018/abscbo/variables.html'\n",
    "characteristics_variables = 'https://api.census.gov/data/2018/abscb/variables.html'\n",
    "company_summary_variables = 'https://api.census.gov/data/2018/abscs/variables.html'\n"
   ]
  },
  {
   "cell_type": "markdown",
   "id": "8cf9d2c7-de27-4f04-89a3-841448a80583",
   "metadata": {},
   "source": [
    "### Get Tables of Variables"
   ]
  },
  {
   "cell_type": "code",
   "execution_count": 2,
   "id": "fa3bde3f-8107-4bc0-aa21-9e7f18d67437",
   "metadata": {},
   "outputs": [],
   "source": [
    "tech_vars = pd.read_html(tech_variables)[0]\n",
    "owner_vars = pd.read_html(owner_variables)[0]\n",
    "characteristic_vars = pd.read_html(characteristics_variables)[0]\n",
    "company_summary_vars = pd.read_html(company_summary_variables)[0]\n",
    "\n",
    "tech_vars = tech_vars[[_ for _ in tech_vars.columns[:2]]]\n",
    "owner_vars = owner_vars[[_ for _ in owner_vars.columns[:2]]]\n",
    "characteristic_vars = characteristic_vars[[_ for _ in characteristic_vars.columns[:2]]]\n",
    "company_summary_vars = company_summary_vars[[_ for _ in company_summary_vars.columns[:2]]] \n",
    "\n",
    "tech_vars.rename(columns = {'Label': 'Tech Labels'}, inplace = True)\n",
    "owner_vars.rename(columns = {'Label': 'Owner Labels'}, inplace = True)\n",
    "characteristic_vars.rename(columns = {'Label': 'Characteristic Labels'}, inplace = True)\n",
    "company_summary_vars.rename(columns = {'Label': 'Company Summary Labels'}, inplace = True)"
   ]
  },
  {
   "cell_type": "code",
   "execution_count": 3,
   "id": "0ab83092-c85f-423a-870f-0b436d102e1e",
   "metadata": {},
   "outputs": [],
   "source": [
    "grouped_tables = pd.merge(tech_vars, owner_vars, left_on = 'Name', right_on = 'Name', how = 'outer')\n",
    "grouped_tables = pd.merge(grouped_tables, characteristic_vars, left_on = 'Name', right_on = 'Name', how = 'outer')\n",
    "grouped_tables = pd.merge(grouped_tables, company_summary_vars , left_on = 'Name', right_on = 'Name', how = 'outer')\n",
    "grouped_tables.fillna(\"-\", inplace = True)\n",
    "grouped_tables = grouped_tables[(~grouped_tables['Tech Labels'].str.contains('Standard error|standard error'))]\n",
    "grouped_tables = grouped_tables[(~grouped_tables['Owner Labels'].str.contains('Standard error|standard error'))]\n",
    "grouped_tables = grouped_tables[(~grouped_tables['Characteristic Labels'].str.contains('Standard error|standard error'))]\n",
    "grouped_tables = grouped_tables[(~grouped_tables['Company Summary Labels'].str.contains('Standard error|standard error'))]\n",
    "\n",
    "grouped_tables.reset_index(drop = True, inplace = True)\n",
    "grouped_tables = grouped_tables[:-2]"
   ]
  },
  {
   "cell_type": "code",
   "execution_count": 4,
   "id": "c5ba33c4-e741-4ac6-a29c-24627bce46bd",
   "metadata": {},
   "outputs": [
    {
     "name": "stdout",
     "output_type": "stream",
     "text": [
      "          Name      Company Summary Labels         Characteristic Labels  \\\n",
      "8       GEO_ID  Geographic identifier code    Geographic identifier code   \n",
      "17   NAICS2017             2017 NAICS code               2017 NAICS code   \n",
      "19     NSFSZFI                           -                             -   \n",
      "22  RACE_GROUP                   Race code                     Race code   \n",
      "25         SEX                    Sex code                      Sex code   \n",
      "42       QDESC                           -     Question description code   \n",
      "44     BUSCHAR                           -  Business characteristic code   \n",
      "47     YIBSZFI      Years in business code        Years in business code   \n",
      "\n",
      "                  Owner Labels                    Tech Labels  \n",
      "8   Geographic identifier code     Geographic identifier code  \n",
      "17             2017 NAICS code                2017 NAICS code  \n",
      "19                           -  Employment size of firms code  \n",
      "22                           -                      Race code  \n",
      "25                           -                       Sex code  \n",
      "42   Question description code                              -  \n",
      "44                           -                              -  \n",
      "47                           -                              -  \n"
     ]
    }
   ],
   "source": [
    "# grouped_tables.sort_values(by = 'Name', ascending = False)\n",
    "vars_of_interest = ['NAICS2017','YIBSZFI','SEX','QDESC','NSFSZFI','GEO_ID','RACE_GROUP','BUSCHAR']\n",
    "target_subset = grouped_tables[(grouped_tables['Name'].isin(vars_of_interest))]\n",
    "target_subset = target_subset[['Name','Company Summary Labels','Characteristic Labels','Owner Labels','Tech Labels']]\n",
    "print(target_subset)"
   ]
  },
  {
   "cell_type": "code",
   "execution_count": 5,
   "id": "5ad0e9b9-b4c8-42d4-ac89-5170e2f3edd3",
   "metadata": {},
   "outputs": [
    {
     "data": {
      "text/plain": [
       "{0: 'NAME,GEO_ID,NAICS2017,NAICS2017_LABEL,RACE_GROUP,RACE_GROUP_LABEL,SEX,SEX_LABEL,YIBSZFI,YIBSZFI_LABEL',\n",
       " 1: 'NAME,GEO_ID,NAICS2017,NAICS2017_LABEL,RACE_GROUP,RACE_GROUP_LABEL,SEX,SEX_LABEL,QDESC,BUSCHAR,BUSCHAR_LABEL,YIBSZFI,YIBSZFI_LABEL',\n",
       " 2: 'NAME,GEO_ID,NAICS2017,NAICS2017_LABEL,QDESC',\n",
       " 3: 'NAME,GEO_ID,NAICS2017,NAICS2017_LABEL,NSFSZFI,NSFSZFI_LABEL,RACE_GROUP,RACE_GROUP_LABEL,SEX,SEX_LABEL'}"
      ]
     },
     "execution_count": 5,
     "metadata": {},
     "output_type": "execute_result"
    }
   ],
   "source": [
    "variable_dict = {}\n",
    "for i,label in enumerate(target_subset.columns[1:]):\n",
    "    variable_list = []\n",
    "    for item in target_subset[(target_subset[label] != \"-\")].Name.tolist():\n",
    "        variable_list.append(item)\n",
    "        variable_list.append(f'{item}_LABEL')\n",
    "    variable_list = [_ for _ in variable_list if _ not in ['GEO_ID_LABEL', 'QDESC_LABEL']]\n",
    "    in_table = \"NAME,\" + \",\".join(variable_list)\n",
    "    variable_dict[i] = in_table\n",
    "variable_dict\n"
   ]
  },
  {
   "cell_type": "code",
   "execution_count": 6,
   "id": "3686decf-634b-4966-bb77-1c0a069d6f70",
   "metadata": {},
   "outputs": [
    {
     "name": "stdout",
     "output_type": "stream",
     "text": [
      "https://api.census.gov/data/2018/abscs?get=NAME,GEO_ID,NAICS2017,NAICS2017_LABEL,RACE_GROUP,RACE_GROUP_LABEL,SEX,SEX_LABEL,YIBSZFI,YIBSZFI_LABEL&for=state:*\n",
      "https://api.census.gov/data/2018/abscb?get=NAME,GEO_ID,NAICS2017,NAICS2017_LABEL,RACE_GROUP,RACE_GROUP_LABEL,SEX,SEX_LABEL,QDESC,BUSCHAR,BUSCHAR_LABEL,YIBSZFI,YIBSZFI_LABEL&for=state:*\n",
      "https://api.census.gov/data/2018/abscbo?get=NAME,GEO_ID,NAICS2017,NAICS2017_LABEL,QDESC&for=state:*\n",
      "https://api.census.gov/data/2018/abstcb?get=NAME,GEO_ID,NAICS2017,NAICS2017_LABEL,NSFSZFI,NSFSZFI_LABEL,RACE_GROUP,RACE_GROUP_LABEL,SEX,SEX_LABEL&for=state:*\n"
     ]
    }
   ],
   "source": [
    "# Might be able to pass in the same vars for every call, and if it exists it will be returned. Not sure if this will work.\n",
    "# otherwise, store the variables in a dictionary where the key is 0-3 and the values are a string of the variables\n",
    "\n",
    "industry_code = '61'\n",
    "qdesc1 = 'B27'\n",
    "# links = [\n",
    "#     f'https://api.census.gov/data/2018/abscs?get={variable_dict[0]}&for=state:*&NAICS2017={industry_code}',\n",
    "#     f'https://api.census.gov/data/2018/abscb?get={variable_dict[1]}&for=state:*&NAICS2017={industry_code}&BUSCHAR&QDESC={qdesc1}',\n",
    "#     f'https://api.census.gov/data/2018/abscbo?get={variable_dict[2]}&for=state:*&OWNCHAR=CG&NAICS2017={industry_code}&QDESC={qdesc1}',\n",
    "#     f'https://api.census.gov/data/2018/abstcb?get={variable_dict[3]}&for=state:*&NAICS2017={industry_code}'\n",
    "# ]\n",
    "\n",
    "links = [\n",
    "    f'https://api.census.gov/data/2018/abscs?get={variable_dict[0]}&for=state:*',\n",
    "    f'https://api.census.gov/data/2018/abscb?get={variable_dict[1]}&for=state:*',\n",
    "    f'https://api.census.gov/data/2018/abscbo?get={variable_dict[2]}&for=state:*',\n",
    "    f'https://api.census.gov/data/2018/abstcb?get={variable_dict[3]}&for=state:*'\n",
    "]\n",
    "\n",
    "def get_data_frame(url):\n",
    "    return pd.read_csv(url)\n",
    "    \n",
    "for link in links:\n",
    "    print(link)\n",
    "# Commented out so we don't use up calls before we have everything right.\n",
    "# comp_sum_df = get_data_frame(links[0])\n",
    "# bus_char_df = get_data_frame(links[1])\n",
    "# bus_own_df = get_data_frame(links[2])\n",
    "# bus_tech_df = get_data_frame(links[3])\n",
    "  \n",
    "    \n",
    "    \n",
    "    \n",
    "    "
   ]
  }
 ],
 "metadata": {
  "kernelspec": {
   "display_name": "Python 3 (ipykernel)",
   "language": "python",
   "name": "python3"
  },
  "language_info": {
   "codemirror_mode": {
    "name": "ipython",
    "version": 3
   },
   "file_extension": ".py",
   "mimetype": "text/x-python",
   "name": "python",
   "nbconvert_exporter": "python",
   "pygments_lexer": "ipython3",
   "version": "3.9.7"
  }
 },
 "nbformat": 4,
 "nbformat_minor": 5
}
