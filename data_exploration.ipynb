{
 "cells": [
  {
   "cell_type": "markdown",
   "id": "784a4563-2aca-4022-90ef-bfbb3d518f7e",
   "metadata": {},
   "source": [
    "# Characteristics of Businesses - Group Exercise"
   ]
  },
  {
   "cell_type": "code",
   "execution_count": 1,
   "id": "ba6382de-0e6d-4039-922a-8ef29d824568",
   "metadata": {},
   "outputs": [],
   "source": [
    "import pandas as pd\n",
    "import requests\n",
    "\n",
    "tech_variables = 'https://api.census.gov/data/2018/abstcb/variables.html'\n",
    "owner_variables = 'https://api.census.gov/data/2018/abscbo/variables.html'\n",
    "characteristics_variables = 'https://api.census.gov/data/2018/abscb/variables.html'\n",
    "company_summary_variables = 'https://api.census.gov/data/2018/abscs/variables.html'\n"
   ]
  },
  {
   "cell_type": "markdown",
   "id": "8cf9d2c7-de27-4f04-89a3-841448a80583",
   "metadata": {},
   "source": [
    "### Get Tables of Variables"
   ]
  },
  {
   "cell_type": "code",
   "execution_count": 2,
   "id": "fa3bde3f-8107-4bc0-aa21-9e7f18d67437",
   "metadata": {},
   "outputs": [],
   "source": [
    "tech_vars = pd.read_html(tech_variables)[0]\n",
    "owner_vars = pd.read_html(owner_variables)[0]\n",
    "characteristic_vars = pd.read_html(characteristics_variables)[0]\n",
    "company_summary_vars = pd.read_html(company_summary_variables)[0]\n",
    "\n",
    "tech_vars = tech_vars[[_ for _ in tech_vars.columns[:2]]]\n",
    "owner_vars = owner_vars[[_ for _ in owner_vars.columns[:2]]]\n",
    "characteristic_vars = characteristic_vars[[_ for _ in characteristic_vars.columns[:2]]]\n",
    "company_summary_vars = company_summary_vars[[_ for _ in company_summary_vars.columns[:2]]] \n",
    "\n",
    "tech_vars.rename(columns = {'Label': 'Tech Labels'}, inplace = True)\n",
    "owner_vars.rename(columns = {'Label': 'Owner Labels'}, inplace = True)\n",
    "characteristic_vars.rename(columns = {'Label': 'Characteristic Labels'}, inplace = True)\n",
    "company_summary_vars.rename(columns = {'Label': 'Company Summary Labels'}, inplace = True)"
   ]
  },
  {
   "cell_type": "code",
   "execution_count": 3,
   "id": "0ab83092-c85f-423a-870f-0b436d102e1e",
   "metadata": {},
   "outputs": [],
   "source": [
    "grouped_tables = pd.merge(tech_vars, owner_vars, left_on = 'Name', right_on = 'Name', how = 'outer')\n",
    "grouped_tables = pd.merge(grouped_tables, characteristic_vars, left_on = 'Name', right_on = 'Name', how = 'outer')\n",
    "grouped_tables = pd.merge(grouped_tables, company_summary_vars , left_on = 'Name', right_on = 'Name', how = 'outer')\n",
    "grouped_tables.fillna(\"-\", inplace = True)\n",
    "grouped_tables = grouped_tables[(~grouped_tables['Tech Labels'].str.contains('Standard error|standard error'))]\n",
    "grouped_tables = grouped_tables[(~grouped_tables['Owner Labels'].str.contains('Standard error|standard error'))]\n",
    "grouped_tables = grouped_tables[(~grouped_tables['Characteristic Labels'].str.contains('Standard error|standard error'))]\n",
    "grouped_tables = grouped_tables[(~grouped_tables['Company Summary Labels'].str.contains('Standard error|standard error'))]\n",
    "\n",
    "grouped_tables.reset_index(drop = True, inplace = True)\n",
    "grouped_tables = grouped_tables[:-2]"
   ]
  },
  {
   "cell_type": "code",
   "execution_count": 4,
   "id": "c5ba33c4-e741-4ac6-a29c-24627bce46bd",
   "metadata": {},
   "outputs": [],
   "source": [
    "# grouped_tables.sort_values(by = 'Name', ascending = False)\n",
    "vars_of_interest = [\n",
    "    'NAICS2017',\n",
    "    'YIBSZFI',\n",
    "    'SEX',\n",
    "    'QDESC',\n",
    "    'NSFSZFI',\n",
    "    'GEO_ID',\n",
    "    'RACE_GROUP',\n",
    "    'BUSCHAR',\n",
    "    'OWNER_RACE',\n",
    "    'OWNER_SEX']\n",
    "target_subset = grouped_tables[(grouped_tables['Name'].isin(vars_of_interest))]\n",
    "target_subset = target_subset[['Name','Company Summary Labels','Characteristic Labels','Owner Labels','Tech Labels']]"
   ]
  },
  {
   "cell_type": "markdown",
   "id": "b499f283-812a-41ba-903b-2f5c7a7fc4e7",
   "metadata": {},
   "source": [
    "### Build variable strings to pass to api call\n"
   ]
  },
  {
   "cell_type": "code",
   "execution_count": 5,
   "id": "5ad0e9b9-b4c8-42d4-ac89-5170e2f3edd3",
   "metadata": {},
   "outputs": [
    {
     "data": {
      "text/plain": [
       "{0: 'NAME,GEO_ID,NAICS2017,NAICS2017_LABEL,RACE_GROUP,RACE_GROUP_LABEL,SEX,SEX_LABEL,YIBSZFI,YIBSZFI_LABEL',\n",
       " 1: 'NAME,GEO_ID,NAICS2017,NAICS2017_LABEL,RACE_GROUP,RACE_GROUP_LABEL,SEX,SEX_LABEL,QDESC,QDESC_LABEL,BUSCHAR,BUSCHAR_LABEL,YIBSZFI,YIBSZFI_LABEL',\n",
       " 2: 'NAME,GEO_ID,NAICS2017,NAICS2017_LABEL,OWNER_RACE,OWNER_RACE_LABEL,OWNER_SEX,OWNER_SEX_LABEL,QDESC,QDESC_LABEL',\n",
       " 3: 'NAME,GEO_ID,NAICS2017,NAICS2017_LABEL,NSFSZFI,NSFSZFI_LABEL,RACE_GROUP,RACE_GROUP_LABEL,SEX,SEX_LABEL'}"
      ]
     },
     "execution_count": 5,
     "metadata": {},
     "output_type": "execute_result"
    }
   ],
   "source": [
    "variable_dict = {}\n",
    "for i,label in enumerate(target_subset.columns[1:]):\n",
    "    variable_list = []\n",
    "    for item in target_subset[(target_subset[label] != \"-\")].Name.tolist():\n",
    "        variable_list.append(item)\n",
    "        variable_list.append(f'{item}_LABEL')\n",
    "    variable_list = [_ for _ in variable_list if _ not in ['GEO_ID_LABEL']]#, 'QDESC_LABEL']]\n",
    "    in_table = \"NAME,\" + \",\".join(variable_list)\n",
    "    variable_dict[i] = in_table\n",
    "variable_dict\n"
   ]
  },
  {
   "cell_type": "code",
   "execution_count": null,
   "id": "3c1a70c7-4daf-4ad1-804a-7e3437b2d236",
   "metadata": {},
   "outputs": [],
   "source": []
  },
  {
   "cell_type": "code",
   "execution_count": 6,
   "id": "3815b474-ad8c-4636-a450-1aab7828ef18",
   "metadata": {},
   "outputs": [
    {
     "name": "stdout",
     "output_type": "stream",
     "text": [
      "https://api.census.gov/data/2018/abscs?get=NAME,GEO_ID,NAICS2017,NAICS2017_LABEL,RACE_GROUP,RACE_GROUP_LABEL,SEX,SEX_LABEL,YIBSZFI,YIBSZFI_LABEL&for=state:*\n",
      "\n",
      "https://api.census.gov/data/2018/abscb?get=NAME,GEO_ID,NAICS2017,NAICS2017_LABEL,RACE_GROUP,RACE_GROUP_LABEL,SEX,SEX_LABEL,QDESC,QDESC_LABEL,BUSCHAR,BUSCHAR_LABEL,YIBSZFI,YIBSZFI_LABEL&for=state:*\n",
      "\n",
      "https://api.census.gov/data/2018/abscbo?get=NAME,GEO_ID,NAICS2017,NAICS2017_LABEL,OWNER_RACE,OWNER_RACE_LABEL,OWNER_SEX,OWNER_SEX_LABEL,QDESC,QDESC_LABEL,OWNCHAR,OWNCHAR_LABEL&for=us:*&for=QDESC_LABEL=YRACQBUS\n",
      "\n",
      "https://api.census.gov/data/2018/abstcb?get=NAME,GEO_ID,NAICS2017,NAICS2017_LABEL,NSFSZFI,NSFSZFI_LABEL,RACE_GROUP,RACE_GROUP_LABEL,SEX,SEX_LABEL,TECHUSE&for=state:*\n",
      "\n"
     ]
    }
   ],
   "source": [
    "# Might be able to pass in the same vars for every call, and if it exists it will be returned. Not sure if this will work.\n",
    "# otherwise, store the variables in a dictionary where the key is 0-3 and the values are a string of the variables\n",
    "\n",
    "industry_code = '61'\n",
    "qdesc1 = 'B27'\n",
    "# links = [\n",
    "#     f'https://api.census.gov/data/2018/abscs?get={variable_dict[0]}&for=state:*&NAICS2017={industry_code}',\n",
    "#     f'https://api.census.gov/data/2018/abscb?get={variable_dict[1]}&for=state:*&NAICS2017={industry_code}&BUSCHAR&QDESC={qdesc1}',\n",
    "#     f'https://api.census.gov/data/2018/abscbo?get={variable_dict[2]}&for=state:*&OWNCHAR=CG&NAICS2017={industry_code}&QDESC={qdesc1}',\n",
    "#     f'https://api.census.gov/data/2018/abstcb?get={variable_dict[3]}&for=state:*&NAICS2017={industry_code}'\n",
    "# ]\n",
    "# removed from working link: GEO_ID,NAME,NAICS2017,NAICS2017_LABEL,OWNER_SEX,OWNER_SEX_LABEL,QDESC,QDESC_LABEL,OWNCHAR,OWNCHAR_LABEL\n",
    "links = [\n",
    "    f'https://api.census.gov/data/2018/abscs?get={variable_dict[0]}&for=state:*',\n",
    "    f'https://api.census.gov/data/2018/abscb?get={variable_dict[1]}&for=state:*',\n",
    "    #f'https://api.census.gov/data/2018/abscbo?get={variable_dict[2]}&for=state:*',\n",
    "    #f'https://api.census.gov/data/2018/abscbo?get={variable_dict[2]}&for=state:*&OWNCHAR=*&NAICS2017=*&QDESC=*',\n",
    "    f'https://api.census.gov/data/2018/abscbo?get={variable_dict[2]},OWNCHAR,OWNCHAR_LABEL&for=us:*&for=QDESC_LABEL=YRACQBUS',\n",
    "    f'https://api.census.gov/data/2018/abstcb?get={variable_dict[3]},TECHUSE&for=state:*',\n",
    "]\n",
    "\n",
    "def get_data_frame(url):\n",
    "    return pd.read_csv(url)\n",
    "    \n",
    "for link in links:\n",
    "    print(link)\n",
    "    print(\"\")"
   ]
  },
  {
   "cell_type": "markdown",
   "id": "cecf9f81-56ce-4f09-989c-ef175c478977",
   "metadata": {},
   "source": [
    "### The cell below is where the dataframes are first stored."
   ]
  },
  {
   "cell_type": "code",
   "execution_count": 7,
   "id": "e1be9681-bae6-49a4-9ce5-26b8fca1c276",
   "metadata": {},
   "outputs": [],
   "source": [
    "comp_sum_df = get_data_frame(links[0]) # Company Summary\n",
    "bus_char_df = business_char_df = get_data_frame(links[1]) # Business Characteristics\n",
    "bus_own_df = business_own_df = get_data_frame(links[2]) # Business Owners\n",
    "bus_tech_df = get_data_frame(links[3]) # Business Tech   "
   ]
  },
  {
   "cell_type": "code",
   "execution_count": 8,
   "id": "a1bfdc01-d8e7-46c6-ab2b-77ca924c8598",
   "metadata": {},
   "outputs": [],
   "source": [
    "df_collection = [comp_sum_df, bus_char_df, bus_own_df, bus_tech_df]    \n",
    "df_names = ['comp_sum_df', 'bus_char_df', 'bus_own_df', 'bus_tech_df']   "
   ]
  },
  {
   "cell_type": "markdown",
   "id": "afe0a9a6-75e3-4756-a944-a8c01f687021",
   "metadata": {},
   "source": [
    "### Clean DataFrames"
   ]
  },
  {
   "cell_type": "code",
   "execution_count": 9,
   "id": "3e313959-08d8-4272-bd5b-d20d7b744be3",
   "metadata": {},
   "outputs": [],
   "source": [
    "drop_list = ['race_group','sex','yibszfi','qdesc','buschar','owner_race','owner_sex','naics2017','us','ownchar']\n",
    "for df in df_collection:\n",
    "    column_names = [_ for _ in df.columns.tolist()]\n",
    "    new_column_names = [_.replace(\"[[\",\"\").replace('\"',\"\").replace(\"]\",\"\").lower() for _ in column_names]\n",
    "\n",
    "    df.columns = new_column_names\n",
    "    df.drop(columns = [_ for _ in new_column_names if ('unnamed' in _ or _ in drop_list)],inplace = True)\n",
    "    df['name'] = df['name'].apply(lambda x: x.replace(\"[\",\"\").replace('\"',\"\"))"
   ]
  },
  {
   "cell_type": "markdown",
   "id": "8c6d9be3-f371-4e29-b3ab-a625f1d2a02c",
   "metadata": {},
   "source": [
    "### Display some info about dataframes."
   ]
  },
  {
   "cell_type": "code",
   "execution_count": 10,
   "id": "14a99328-662e-4daa-9995-fb54c457c978",
   "metadata": {},
   "outputs": [
    {
     "name": "stdout",
     "output_type": "stream",
     "text": [
      "\n",
      "############# NEW DATAFRAME ################\n",
      "Displaying column value counts where there are fewer than 10 unique values in the column.\n",
      "comp_sum_df \n",
      "***************************\n",
      "Total                                         27311\n",
      "White                                         11327\n",
      "Nonminority                                   11320\n",
      "Minority                                       9285\n",
      "Asian                                          7748\n",
      "Black or African American                      6433\n",
      "Equally minority/nonminority                   6133\n",
      "American Indian and Alaska Native              4509\n",
      "Native Hawaiian and Other Pacific Islander     2126\n",
      "Name: race_group_label, dtype: int64\n",
      "\n",
      "Total                  44001\n",
      "Male                   15588\n",
      "Female                 13737\n",
      "Equally male/female    12866\n",
      "Name: sex_label, dtype: int64\n",
      "\n",
      "All firms                                   27090\n",
      "Firms with less than 2 years in business    10764\n",
      "Firms with 16 or more years in business     10629\n",
      "Firms with 6 to 10 years in business         9755\n",
      "Firms with 11 to 15 years in business        9602\n",
      "Firms with 2 to 3 years in business          9367\n",
      "Firms with 4 to 5 years in business          8985\n",
      "Name: yibszfi_label, dtype: int64\n",
      "\n",
      "############# END OF DATAFRAME INFO ################\n",
      "\n",
      "\n",
      "############# NEW DATAFRAME ################\n",
      "Displaying column value counts where there are fewer than 10 unique values in the column.\n",
      "bus_char_df \n",
      "***************************\n",
      "Total for all sectors    2295\n",
      "Name: naics2017_label, dtype: int64\n",
      "\n",
      "Total    2295\n",
      "Name: race_group_label, dtype: int64\n",
      "\n",
      "Total    2295\n",
      "Name: sex_label, dtype: int64\n",
      "\n",
      "WORKERS     510\n",
      "OWNRNUM     408\n",
      "SPOUSES     408\n",
      "CUST        408\n",
      "FAMOWN      306\n",
      "CEASEOPS    255\n",
      "Name: qdesc_label, dtype: int64\n",
      "\n",
      "All firms    2295\n",
      "Name: yibszfi_label, dtype: int64\n",
      "\n",
      "############# END OF DATAFRAME INFO ################\n",
      "\n",
      "\n",
      "############# NEW DATAFRAME ################\n",
      "Displaying column value counts where there are fewer than 10 unique values in the column.\n",
      "bus_own_df \n",
      "***************************\n",
      "United States    46098\n",
      "Name: name, dtype: int64\n",
      "\n",
      "0100000US    46098\n",
      "Name: geo_id, dtype: int64\n",
      "\n",
      "All owners of respondent firms                6644\n",
      "White                                         6639\n",
      "Nonminority                                   6638\n",
      "Minority                                      6345\n",
      "Asian                                         5963\n",
      "Black or African American                     5406\n",
      "American Indian and Alaska Native             4905\n",
      "Native Hawaiian and Other Pacific Islander    3558\n",
      "Name: owner_race_label, dtype: int64\n",
      "\n",
      "All owners of respondent firms    15923\n",
      "Male                              15512\n",
      "Female                            14663\n",
      "Name: owner_sex_label, dtype: int64\n",
      "\n",
      "REASONOWN      17732\n",
      "FLDEDUC         7102\n",
      "EDUC            4684\n",
      "YRACQBUS        4308\n",
      "OWNRAGE         3478\n",
      "PRIORBUSTAT     3307\n",
      "PRIMINC         1859\n",
      "USBORN          1843\n",
      "USCITIZEN       1785\n",
      "Name: qdesc_label, dtype: int64\n",
      "\n",
      "############# END OF DATAFRAME INFO ################\n",
      "\n",
      "\n",
      "############# NEW DATAFRAME ################\n",
      "Displaying column value counts where there are fewer than 10 unique values in the column.\n",
      "bus_tech_df \n",
      "***************************\n",
      "1    42840\n",
      "Name: nsfszfi, dtype: int64\n",
      "\n",
      "All firms    42840\n",
      "Name: nsfszfi_label, dtype: int64\n",
      "\n",
      "Total    42840\n",
      "Name: race_group_label, dtype: int64\n",
      "\n",
      "Total    42840\n",
      "Name: sex_label, dtype: int64\n",
      "\n",
      "############# END OF DATAFRAME INFO ################\n",
      "\n"
     ]
    }
   ],
   "source": [
    "for i,df in enumerate(df_collection):\n",
    "    print('\\n############# NEW DATAFRAME ################')\n",
    "    print('Displaying column value counts where there are fewer than 10 unique values in the column.')\n",
    "    print(df_names[i],\"\\n***************************\")\n",
    "    for column in df:\n",
    "        if len(df[column].unique().tolist()) < 10:\n",
    "            print(df[column].value_counts())\n",
    "            print(\"\")\n",
    "    print('############# END OF DATAFRAME INFO ################\\n')"
   ]
  },
  {
   "cell_type": "code",
   "execution_count": null,
   "id": "5ee90a29-cd43-4d61-9338-2372de503e62",
   "metadata": {},
   "outputs": [],
   "source": []
  }
 ],
 "metadata": {
  "kernelspec": {
   "display_name": "Python 3 (ipykernel)",
   "language": "python",
   "name": "python3"
  },
  "language_info": {
   "codemirror_mode": {
    "name": "ipython",
    "version": 3
   },
   "file_extension": ".py",
   "mimetype": "text/x-python",
   "name": "python",
   "nbconvert_exporter": "python",
   "pygments_lexer": "ipython3",
   "version": "3.9.7"
  }
 },
 "nbformat": 4,
 "nbformat_minor": 5
}
