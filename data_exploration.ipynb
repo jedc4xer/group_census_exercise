{
 "cells": [
  {
   "cell_type": "markdown",
   "id": "784a4563-2aca-4022-90ef-bfbb3d518f7e",
   "metadata": {},
   "source": [
    "# Characteristics of Businesses - Group Exercise"
   ]
  },
  {
   "cell_type": "code",
   "execution_count": 1,
   "id": "ba6382de-0e6d-4039-922a-8ef29d824568",
   "metadata": {},
   "outputs": [],
   "source": [
    "import pandas as pd\n",
    "import requests\n",
    "\n",
    "tech_variables = 'https://api.census.gov/data/2018/abstcb/variables.html'\n",
    "owner_variables = 'https://api.census.gov/data/2018/abscbo/variables.html'\n",
    "characteristics_variables = 'https://api.census.gov/data/2018/abscb/variables.html'\n",
    "company_summary_variables = 'https://api.census.gov/data/2018/abscs/variables.html'\n"
   ]
  },
  {
   "cell_type": "markdown",
   "id": "8cf9d2c7-de27-4f04-89a3-841448a80583",
   "metadata": {},
   "source": [
    "### Get Tables of Variables"
   ]
  },
  {
   "cell_type": "code",
   "execution_count": 2,
   "id": "fa3bde3f-8107-4bc0-aa21-9e7f18d67437",
   "metadata": {},
   "outputs": [],
   "source": [
    "tech_vars = pd.read_html(tech_variables)[0]\n",
    "owner_vars = pd.read_html(owner_variables)[0]\n",
    "characteristic_vars = pd.read_html(characteristics_variables)[0]\n",
    "company_summary_vars = pd.read_html(company_summary_variables)[0]\n",
    "\n",
    "tech_vars = tech_vars[[_ for _ in tech_vars.columns[:2]]]\n",
    "owner_vars = owner_vars[[_ for _ in owner_vars.columns[:2]]]\n",
    "characteristic_vars = characteristic_vars[[_ for _ in characteristic_vars.columns[:2]]]\n",
    "company_summary_vars = company_summary_vars[[_ for _ in company_summary_vars.columns[:2]]] \n",
    "\n",
    "tech_vars.rename(columns = {'Label': 'Tech Labels'}, inplace = True)\n",
    "owner_vars.rename(columns = {'Label': 'Owner Labels'}, inplace = True)\n",
    "characteristic_vars.rename(columns = {'Label': 'Characteristic Labels'}, inplace = True)\n",
    "company_summary_vars.rename(columns = {'Label': 'Company Summary Labels'}, inplace = True)"
   ]
  },
  {
   "cell_type": "code",
   "execution_count": 3,
   "id": "0ab83092-c85f-423a-870f-0b436d102e1e",
   "metadata": {},
   "outputs": [],
   "source": [
    "grouped_tables = pd.merge(tech_vars, owner_vars, left_on = 'Name', right_on = 'Name', how = 'outer')\n",
    "grouped_tables = pd.merge(grouped_tables, characteristic_vars, left_on = 'Name', right_on = 'Name', how = 'outer')\n",
    "grouped_tables = pd.merge(grouped_tables, company_summary_vars , left_on = 'Name', right_on = 'Name', how = 'outer')\n",
    "grouped_tables.fillna(\"-\", inplace = True)\n",
    "grouped_tables = grouped_tables[(~grouped_tables['Tech Labels'].str.contains('Standard error|standard error'))]\n",
    "grouped_tables = grouped_tables[(~grouped_tables['Owner Labels'].str.contains('Standard error|standard error'))]\n",
    "grouped_tables = grouped_tables[(~grouped_tables['Characteristic Labels'].str.contains('Standard error|standard error'))]\n",
    "grouped_tables = grouped_tables[(~grouped_tables['Company Summary Labels'].str.contains('Standard error|standard error'))]\n",
    "\n",
    "grouped_tables.reset_index(drop = True, inplace = True)\n",
    "grouped_tables = grouped_tables[:-2]"
   ]
  },
  {
   "cell_type": "code",
   "execution_count": 9,
   "id": "c5ba33c4-e741-4ac6-a29c-24627bce46bd",
   "metadata": {},
   "outputs": [
    {
     "data": {
      "text/html": [
       "<div>\n",
       "<style scoped>\n",
       "    .dataframe tbody tr th:only-of-type {\n",
       "        vertical-align: middle;\n",
       "    }\n",
       "\n",
       "    .dataframe tbody tr th {\n",
       "        vertical-align: top;\n",
       "    }\n",
       "\n",
       "    .dataframe thead th {\n",
       "        text-align: right;\n",
       "    }\n",
       "</style>\n",
       "<table border=\"1\" class=\"dataframe\">\n",
       "  <thead>\n",
       "    <tr style=\"text-align: right;\">\n",
       "      <th></th>\n",
       "      <th>Name</th>\n",
       "      <th>Tech Labels</th>\n",
       "      <th>Owner Labels</th>\n",
       "      <th>Characteristic Labels</th>\n",
       "      <th>Company Summary Labels</th>\n",
       "    </tr>\n",
       "  </thead>\n",
       "  <tbody>\n",
       "    <tr>\n",
       "      <th>8</th>\n",
       "      <td>GEO_ID</td>\n",
       "      <td>Geographic identifier code</td>\n",
       "      <td>Geographic identifier code</td>\n",
       "      <td>Geographic identifier code</td>\n",
       "      <td>Geographic identifier code</td>\n",
       "    </tr>\n",
       "    <tr>\n",
       "      <th>17</th>\n",
       "      <td>NAICS2017</td>\n",
       "      <td>2017 NAICS code</td>\n",
       "      <td>2017 NAICS code</td>\n",
       "      <td>2017 NAICS code</td>\n",
       "      <td>2017 NAICS code</td>\n",
       "    </tr>\n",
       "    <tr>\n",
       "      <th>19</th>\n",
       "      <td>NSFSZFI</td>\n",
       "      <td>Employment size of firms code</td>\n",
       "      <td>-</td>\n",
       "      <td>-</td>\n",
       "      <td>-</td>\n",
       "    </tr>\n",
       "    <tr>\n",
       "      <th>22</th>\n",
       "      <td>RACE_GROUP</td>\n",
       "      <td>Race code</td>\n",
       "      <td>-</td>\n",
       "      <td>Race code</td>\n",
       "      <td>Race code</td>\n",
       "    </tr>\n",
       "    <tr>\n",
       "      <th>25</th>\n",
       "      <td>SEX</td>\n",
       "      <td>Sex code</td>\n",
       "      <td>-</td>\n",
       "      <td>Sex code</td>\n",
       "      <td>Sex code</td>\n",
       "    </tr>\n",
       "    <tr>\n",
       "      <th>42</th>\n",
       "      <td>QDESC</td>\n",
       "      <td>-</td>\n",
       "      <td>Question description code</td>\n",
       "      <td>Question description code</td>\n",
       "      <td>-</td>\n",
       "    </tr>\n",
       "    <tr>\n",
       "      <th>47</th>\n",
       "      <td>YIBSZFI</td>\n",
       "      <td>-</td>\n",
       "      <td>-</td>\n",
       "      <td>Years in business code</td>\n",
       "      <td>Years in business code</td>\n",
       "    </tr>\n",
       "  </tbody>\n",
       "</table>\n",
       "</div>"
      ],
      "text/plain": [
       "          Name                    Tech Labels                Owner Labels  \\\n",
       "8       GEO_ID     Geographic identifier code  Geographic identifier code   \n",
       "17   NAICS2017                2017 NAICS code             2017 NAICS code   \n",
       "19     NSFSZFI  Employment size of firms code                           -   \n",
       "22  RACE_GROUP                      Race code                           -   \n",
       "25         SEX                       Sex code                           -   \n",
       "42       QDESC                              -   Question description code   \n",
       "47     YIBSZFI                              -                           -   \n",
       "\n",
       "         Characteristic Labels      Company Summary Labels  \n",
       "8   Geographic identifier code  Geographic identifier code  \n",
       "17             2017 NAICS code             2017 NAICS code  \n",
       "19                           -                           -  \n",
       "22                   Race code                   Race code  \n",
       "25                    Sex code                    Sex code  \n",
       "42   Question description code                           -  \n",
       "47      Years in business code      Years in business code  "
      ]
     },
     "execution_count": 9,
     "metadata": {},
     "output_type": "execute_result"
    }
   ],
   "source": [
    "# grouped_tables.sort_values(by = 'Name', ascending = False)\n",
    "vars_of_interest = ['NAICS2017','YIBSZFI','SEX','QDESC','NSFSZFI','GEO_ID','RACE_GROUP']\n",
    "grouped_tables[(grouped_tables['Name'].isin(vars_of_interest))]"
   ]
  },
  {
   "cell_type": "code",
   "execution_count": null,
   "id": "5ad0e9b9-b4c8-42d4-ac89-5170e2f3edd3",
   "metadata": {},
   "outputs": [],
   "source": []
  },
  {
   "cell_type": "code",
   "execution_count": 10,
   "id": "3686decf-634b-4966-bb77-1c0a069d6f70",
   "metadata": {},
   "outputs": [
    {
     "ename": "IndentationError",
     "evalue": "expected an indented block (Temp/ipykernel_36816/3259570957.py, line 12)",
     "output_type": "error",
     "traceback": [
      "\u001b[1;36m  File \u001b[1;32m\"C:\\Users\\Work\\AppData\\Local\\Temp/ipykernel_36816/3259570957.py\"\u001b[1;36m, line \u001b[1;32m12\u001b[0m\n\u001b[1;33m    \u001b[0m\n\u001b[1;37m    ^\u001b[0m\n\u001b[1;31mIndentationError\u001b[0m\u001b[1;31m:\u001b[0m expected an indented block\n"
     ]
    }
   ],
   "source": [
    "# Might be able to pass in the same vars for every call, and if it exists it will be returned. Not sure if this will work.\n",
    "# otherwise, store the variables in a dictionary where the key is 0-3 and the values are a string of the variables\n",
    "links = [\n",
    "    f'https://api.census.gov/data/2018/abscs?get={variables}&for=state:*&NAICS2017={industry_code}',\n",
    "    f'https://api.census.gov/data/2018/abscb?get={variables}&for=state:*&NAICS2017={industry_code}&BUSCHAR=A1&QDESC={qdesc1}',\n",
    "    f'https://api.census.gov/data/2018/abscbo?get={variables}&for=state:*&OWNCHAR=CG&NAICS2017={industry_code}&QDESC={qdesc1}',\n",
    "    f'https://api.census.gov/data/2018/abstcb?get={variables}&for=state:*&NAICS2017={industry_code}'\n",
    "]\n",
    "\n",
    "\n",
    "def get_data_frame(url):\n",
    "    \n",
    "    \n",
    "comp_sum_df = link1\n",
    "bus_char_df = link2\n",
    "bus_own_df = link3\n",
    "bus_tech_df = link4\n",
    "  \n",
    "    \n",
    "    \n",
    "    \n",
    "    "
   ]
  },
  {
   "cell_type": "code",
   "execution_count": null,
   "id": "3fdd6288-75cf-4934-9074-f408e5f69a50",
   "metadata": {},
   "outputs": [],
   "source": []
  }
 ],
 "metadata": {
  "kernelspec": {
   "display_name": "Python 3 (ipykernel)",
   "language": "python",
   "name": "python3"
  },
  "language_info": {
   "codemirror_mode": {
    "name": "ipython",
    "version": 3
   },
   "file_extension": ".py",
   "mimetype": "text/x-python",
   "name": "python",
   "nbconvert_exporter": "python",
   "pygments_lexer": "ipython3",
   "version": "3.9.7"
  }
 },
 "nbformat": 4,
 "nbformat_minor": 5
}
